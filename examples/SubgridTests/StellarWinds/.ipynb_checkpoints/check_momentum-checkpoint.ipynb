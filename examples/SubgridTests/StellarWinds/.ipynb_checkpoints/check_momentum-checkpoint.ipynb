{
 "cells": [
  {
   "cell_type": "code",
   "execution_count": 5,
   "metadata": {},
   "outputs": [
    {
     "name": "stdout",
     "output_type": "stream",
     "text": [
      "Populating the interactive namespace from numpy and matplotlib\n"
     ]
    }
   ],
   "source": [
    "%pylab inline\n",
    "import h5py"
   ]
  },
  {
   "cell_type": "code",
   "execution_count": 157,
   "metadata": {},
   "outputs": [],
   "source": [
    "tw = 6.5\n",
    "p1 = 1.8e40\n",
    "p2 = 0.01\n",
    "p3 = 0.38\n",
    "\n",
    "def get_momentum(t,mstr,z=0.01):\n",
    "    \"\"\"get momentum according to the model used in the code\n",
    "        and the parameters sourced in the parameter file\n",
    "    \"\"\"\n",
    "    \n",
    "    if(z < 0.001): z = 0.001\n",
    "    if(z > 0.04): z = 0.04\n",
    "    \n",
    "    return mstr * p1 * (z/p2)**p3 * t/tw"
   ]
  },
  {
   "cell_type": "code",
   "execution_count": 158,
   "metadata": {},
   "outputs": [],
   "source": [
    "time_factor = 3.086e21/1e5 / (60*60*24*365*1e6)\n",
    "\n",
    "momentum_imparted_time = []\n",
    "momentum_received_time = []\n",
    "times = []\n",
    "for i in np.arange(1,201):\n",
    "    with h5py.File('output_%04d.hdf5'%i,'r') as snap:\n",
    "        tcurrent = snap['Header'].attrs['Time'] * time_factor\n",
    "        mgas = snap['PartType0/Masses'].value*1e10\n",
    "        zstr = snap['PartType4/Metallicity'].value\n",
    "        mstr = snap['PartType4/InitialMasses'].value*1e10\n",
    "        tform = snap['PartType4/BirthTime'].value * time_factor\n",
    "        momentum_gas = snap['PartType0/Momentum Received'].value\n",
    "        momentum_str = snap['PartType4/Momentum Received'].value\n",
    "                \n",
    "        if(tcurrent < tw):\n",
    "            total_momentum_imparted = get_momentum(tcurrent[0],mstr[0],z=zstr[0])\n",
    "        else:\n",
    "            total_momentum_imparted = get_momentum(tw,mstr[0],z=zstr[0])\n",
    "\n",
    "        total_momentum_received = (np.sum(momentum_gas)) * (1.99e43) * 1e5\n",
    "\n",
    "        momentum_imparted_time.append(total_momentum_imparted)\n",
    "        momentum_received_time.append(total_momentum_received)\n",
    "\n",
    "        times.append(tcurrent)\n",
    "        \n",
    "momentum_imparted_time = np.asarray(momentum_imparted_time)\n",
    "momentum_received_time = np.asarray(momentum_received_time)\n"
   ]
  },
  {
   "cell_type": "code",
   "execution_count": 163,
   "metadata": {},
   "outputs": [
    {
     "data": {
      "image/png": "[encoded data removed]",
      "text/plain": [
       "<Figure size 360x360 with 2 Axes>"
      ]
     },
     "metadata": {},
     "output_type": "display_data"
    }
   ],
   "source": [
    "fig = plt.figure(1, figsize=(5,5))\n",
    "ax1 = fig.add_subplot(211)\n",
    "ax2 = fig.add_subplot(212)\n",
    "\n",
    "\n",
    "ax1.plot(times, np.log10(momentum_imparted_time), lw=2, label='Imparted')\n",
    "ax1.plot(times, np.log10(momentum_received_time), lw=2, ls='--', label='Received')\n",
    "\n",
    "ax2.plot(times, np.log10(momentum_received_time)-np.log10(momentum_imparted_time))\n",
    "ax2.set_ylim(-0.1,0.1)\n",
    "\n",
    "ax2.set_xlabel(r'$\\rm Time / Myr$', size=15)\n",
    "ax2.set_ylabel(r'$\\rm log_{10} \\left ( p_{rec} / p_{snd} \\right ) $', size=15)\n",
    "ax1.set_ylabel(r'$\\rm log_{10} \\left ( p / \\ g \\ cm \\ s^{-1} \\right ) $', size=15)\n",
    "\n",
    "ax1.axvline(tw, ls='--')\n",
    "\n",
    "ax1.minorticks_on()\n",
    "ax2.minorticks_on()\n",
    "\n",
    "ax1.legend(loc='lower right')\n",
    "\n",
    "plt.savefig('check_momentum.png', bbox_inches='tight', dpi=200)"
   ]
  },
  {
   "cell_type": "code",
   "execution_count": null,
   "metadata": {},
   "outputs": [],
   "source": []
  }
 ],
 "metadata": {
  "kernelspec": {
   "display_name": "Python 3",
   "language": "python",
   "name": "python3"
  },
  "language_info": {
   "codemirror_mode": {
    "name": "ipython",
    "version": 3
   },
   "file_extension": ".py",
   "mimetype": "text/x-python",
   "name": "python",
   "nbconvert_exporter": "python",
   "pygments_lexer": "ipython3",
   "version": "3.6.5"
  }
 },
 "nbformat": 4,
 "nbformat_minor": 2
}
